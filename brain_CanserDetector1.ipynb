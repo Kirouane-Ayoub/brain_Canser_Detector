{
  "nbformat": 4,
  "nbformat_minor": 0,
  "metadata": {
    "colab": {
      "name": "brain-CanserDetector1.ipynb",
      "provenance": [],
      "collapsed_sections": []
    },
    "kernelspec": {
      "name": "python3",
      "display_name": "Python 3"
    },
    "language_info": {
      "name": "python"
    }
  },
  "cells": [
    {
      "cell_type": "code",
      "execution_count": 1,
      "metadata": {
        "id": "-VzBTC2syU1n"
      },
      "outputs": [],
      "source": [
        "import pandas as pd \n",
        "import tensorflow as tf\n",
        "import numpy as np \n",
        "import os \n",
        "import matplotlib.pyplot as plt\n",
        "import keras "
      ]
    },
    {
      "cell_type": "code",
      "source": [
        "# Upload google drive in our COLAB\n",
        "\n",
        "from google.colab import drive\n",
        "drive.mount('/content/drive')"
      ],
      "metadata": {
        "colab": {
          "base_uri": "https://localhost:8080/"
        },
        "id": "ZNHZkBqApiXB",
        "outputId": "935dfdab-e1c3-4300-dcf1-a2f964494dc2"
      },
      "execution_count": 2,
      "outputs": [
        {
          "output_type": "stream",
          "name": "stdout",
          "text": [
            "Mounted at /content/drive\n"
          ]
        }
      ]
    },
    {
      "cell_type": "code",
      "source": [
        "import cv2 \n",
        "import glob as gb"
      ],
      "metadata": {
        "id": "0y5ggczNzguU"
      },
      "execution_count": 3,
      "outputs": []
    },
    {
      "cell_type": "code",
      "source": [
        "trainpath = \"/content/drive/MyDrive/Colab Notebooks/dataset/dataset03/Training\"\n",
        "testpath = \"/content/drive/MyDrive/Colab Notebooks/dataset/dataset03/Testing\""
      ],
      "metadata": {
        "id": "ywMmxbeZzsFP"
      },
      "execution_count": 4,
      "outputs": []
    },
    {
      "cell_type": "markdown",
      "source": [
        ""
      ],
      "metadata": {
        "id": "fhv4ZerNxUlF"
      }
    },
    {
      "cell_type": "code",
      "source": [
        "code = {'glioma_tumor':0 ,'meningioma_tumor':1,'no_tumor':2 , \"pituitary_tumor\" :3}\n",
        "\n",
        "def getcode(n) : \n",
        "    for x , y in code.items() : \n",
        "        if n == y : \n",
        "            return x  "
      ],
      "metadata": {
        "id": "dyFqEfeez1_9"
      },
      "execution_count": 5,
      "outputs": []
    },
    {
      "cell_type": "code",
      "source": [
        "from tensorflow.keras.preprocessing import image_dataset_from_directory"
      ],
      "metadata": {
        "id": "KtNdpS7d1pwX"
      },
      "execution_count": 6,
      "outputs": []
    },
    {
      "cell_type": "code",
      "source": [
        "dataset_train = image_dataset_from_directory(trainpath, label_mode='categorical',image_size =(224, 224),batch_size=16 )\n",
        "dataset_test = image_dataset_from_directory(testpath, label_mode='categorical' ,image_size =(224, 224),batch_size=16)"
      ],
      "metadata": {
        "colab": {
          "base_uri": "https://localhost:8080/"
        },
        "id": "5lpn5Sm41Chl",
        "outputId": "e6e89712-ac14-48a6-d109-e6e987f90315"
      },
      "execution_count": 7,
      "outputs": [
        {
          "output_type": "stream",
          "name": "stdout",
          "text": [
            "Found 2870 files belonging to 4 classes.\n",
            "Found 394 files belonging to 4 classes.\n"
          ]
        }
      ]
    },
    {
      "cell_type": "code",
      "source": [
        "dataset_test.class_names"
      ],
      "metadata": {
        "colab": {
          "base_uri": "https://localhost:8080/"
        },
        "id": "aPrbTCLO0UdA",
        "outputId": "db68bfcd-3cfc-4699-ea7e-e2826504793f"
      },
      "execution_count": 8,
      "outputs": [
        {
          "output_type": "execute_result",
          "data": {
            "text/plain": [
              "['glioma_tumor', 'meningioma_tumor', 'no_tumor', 'pituitary_tumor']"
            ]
          },
          "metadata": {},
          "execution_count": 8
        }
      ]
    },
    {
      "cell_type": "code",
      "source": [
        "from tensorflow.keras.applications import InceptionV3,VGG19,MobileNet"
      ],
      "metadata": {
        "id": "ulfWjigJ2W94"
      },
      "execution_count": 9,
      "outputs": []
    },
    {
      "cell_type": "code",
      "source": [
        "from tensorflow.keras.layers import Dense,Conv2D,Flatten"
      ],
      "metadata": {
        "id": "2UK-oxZX2cBO"
      },
      "execution_count": 10,
      "outputs": []
    },
    {
      "cell_type": "code",
      "source": [
        "from tensorflow.keras import Model"
      ],
      "metadata": {
        "id": "JKOiCsBO2iwm"
      },
      "execution_count": 11,
      "outputs": []
    },
    {
      "cell_type": "code",
      "source": [
        "def create_model():\n",
        "    print(1)\n",
        "    inception = InceptionV3(include_top=True)\n",
        "    output = Dense(4,activation='softmax')(inception.layers[-2].output)\n",
        "    model = Model(inception.inputs,output)\n",
        "    model.compile('adam','categorical_crossentropy','accuracy')\n",
        "    for layer in model.layers[:-2]:\n",
        "        layer.trainable = False\n",
        "    return model\n",
        "\n",
        "model = create_model()"
      ],
      "metadata": {
        "colab": {
          "base_uri": "https://localhost:8080/"
        },
        "id": "eJcNaEwM1QJW",
        "outputId": "f779c81f-5367-4a6d-bd42-c5a994acfbf1"
      },
      "execution_count": null,
      "outputs": [
        {
          "output_type": "stream",
          "name": "stdout",
          "text": [
            "1\n",
            "Downloading data from https://storage.googleapis.com/tensorflow/keras-applications/inception_v3/inception_v3_weights_tf_dim_ordering_tf_kernels.h5\n",
            "96116736/96112376 [==============================] - 1s 0us/step\n",
            "96124928/96112376 [==============================] - 1s 0us/step\n"
          ]
        }
      ]
    },
    {
      "cell_type": "code",
      "source": [
        "from tensorflow.keras.callbacks import TensorBoard"
      ],
      "metadata": {
        "id": "1c7oDvEW23au"
      },
      "execution_count": 12,
      "outputs": []
    },
    {
      "cell_type": "code",
      "source": [
        "tensorboard_callback = TensorBoard(histogram_freq=1,write_images=True)\n",
        "h = model.fit(dataset_train,epochs=2,callbacks=[tensorboard_callback])"
      ],
      "metadata": {
        "id": "mRIaH9j2W--b"
      },
      "execution_count": null,
      "outputs": []
    },
    {
      "cell_type": "code",
      "source": [
        "model.save(\"brain-model1.h5\")"
      ],
      "metadata": {
        "id": "fqMveA2UoRD5"
      },
      "execution_count": null,
      "outputs": []
    },
    {
      "cell_type": "code",
      "source": [
        "import tensorflow as tf "
      ],
      "metadata": {
        "id": "ZfKq3nkTxhN-"
      },
      "execution_count": null,
      "outputs": []
    },
    {
      "cell_type": "code",
      "source": [
        "res = nmodule.predict(dataset_test)"
      ],
      "metadata": {
        "id": "gC5wEUtUxzWW"
      },
      "execution_count": null,
      "outputs": []
    },
    {
      "cell_type": "code",
      "source": [
        "code = {'glioma_tumor':0, 'meningioma_tumor':1, 'no_tumor':2, 'pituitary_tumor':3}"
      ],
      "metadata": {
        "id": "JAwFc6-r0iUN"
      },
      "execution_count": null,
      "outputs": []
    },
    {
      "cell_type": "code",
      "source": [
        "code."
      ],
      "metadata": {
        "colab": {
          "base_uri": "https://localhost:8080/"
        },
        "id": "hVAnrIUU1tr_",
        "outputId": "5d79c295-7f01-490d-ac86-2b85010ce925"
      },
      "execution_count": null,
      "outputs": [
        {
          "output_type": "execute_result",
          "data": {
            "text/plain": [
              "dict_items([('glioma_tumor', 0), ('meningioma_tumor', 1), ('no_tumor', 2), ('pituitary_tumor', 3)])"
            ]
          },
          "metadata": {},
          "execution_count": 31
        }
      ]
    },
    {
      "cell_type": "code",
      "source": [
        "def getcode(n) :\n",
        "  for x ,y in code.items() : \n",
        "    if n == y :\n",
        "      return x "
      ],
      "metadata": {
        "id": "g8beey-21W13"
      },
      "execution_count": null,
      "outputs": []
    },
    {
      "cell_type": "code",
      "source": [
        "#getcode(np.argmax())"
      ],
      "metadata": {
        "id": "TptRR-Qu2Ly_"
      },
      "execution_count": null,
      "outputs": []
    },
    {
      "cell_type": "code",
      "source": [
        "test_path = \"/content/drive/MyDrive/Colab Notebooks/dataset/new\""
      ],
      "metadata": {
        "id": "xDG3KF9A4C58"
      },
      "execution_count": null,
      "outputs": []
    },
    {
      "cell_type": "code",
      "source": [
        "from tensorflow.keras.preprocessing.image import ImageDataGenerator"
      ],
      "metadata": {
        "id": "Cz8by0Uc4ewL"
      },
      "execution_count": null,
      "outputs": []
    },
    {
      "cell_type": "code",
      "source": [
        "test_scal = ImageDataGenerator(rescale= 1./255,\n",
        "                            shear_range = 0.2,\n",
        "                            zoom_range = 0.2,\n",
        "                            horizontal_flip = True,\n",
        ")\n",
        "\n",
        "test_val = test_scal.flow_from_directory(directory = test_path, target_size = (224,224))"
      ],
      "metadata": {
        "colab": {
          "base_uri": "https://localhost:8080/"
        },
        "id": "8DLXy7y84JQd",
        "outputId": "4633bc0f-9a0a-47f7-f547-55c4f6792ddb"
      },
      "execution_count": null,
      "outputs": [
        {
          "output_type": "stream",
          "name": "stdout",
          "text": [
            "Found 4 images belonging to 1 classes.\n"
          ]
        }
      ]
    },
    {
      "cell_type": "code",
      "source": [
        "predd = nmodule.predict(test_val)"
      ],
      "metadata": {
        "id": "enUz3A8D41_J"
      },
      "execution_count": null,
      "outputs": []
    },
    {
      "cell_type": "code",
      "source": [
        "print(predd)"
      ],
      "metadata": {
        "colab": {
          "base_uri": "https://localhost:8080/"
        },
        "id": "sUZEk2Ys4_AA",
        "outputId": "5b311e7a-07c8-43c4-89ea-d6f9c7fb3662"
      },
      "execution_count": null,
      "outputs": [
        {
          "output_type": "stream",
          "name": "stdout",
          "text": [
            "[[0.2689114  0.53450525 0.19596075 0.00062266]\n",
            " [0.26062083 0.53569317 0.20303208 0.00065394]\n",
            " [0.26357862 0.535177   0.20059337 0.00065098]\n",
            " [0.26489636 0.5351022  0.19935931 0.00064216]]\n"
          ]
        }
      ]
    },
    {
      "cell_type": "code",
      "source": [
        "arr = nmodule.predict(prepare(npath))"
      ],
      "metadata": {
        "id": "ostaTIbatAn9"
      },
      "execution_count": null,
      "outputs": []
    },
    {
      "cell_type": "code",
      "source": [
        "print(arr[0][2]*100)"
      ],
      "metadata": {
        "colab": {
          "base_uri": "https://localhost:8080/"
        },
        "id": "yG8btq7SxxCj",
        "outputId": "1cd9474a-a2dc-46a1-a075-d37186f1e6ed"
      },
      "execution_count": null,
      "outputs": [
        {
          "output_type": "stream",
          "name": "stdout",
          "text": [
            "25.056686997413635\n"
          ]
        }
      ]
    },
    {
      "cell_type": "code",
      "source": [
        "def create_model():\n",
        "    print(1)\n",
        "    inception = MobileNet(include_top=True)\n",
        "    output = Dense(4,activation='softmax')(inception.layers[-2].output)\n",
        "    model = Model(inception.inputs,output)\n",
        "    model.compile('adam','categorical_crossentropy','accuracy')\n",
        "    for layer in model.layers[:-2]:\n",
        "        layer.trainable = False\n",
        "    return model\n",
        "\n",
        "model2 = create_model()"
      ],
      "metadata": {
        "colab": {
          "base_uri": "https://localhost:8080/"
        },
        "id": "MS8VYNcp37hD",
        "outputId": "c5729b93-1b7a-4f99-c6b1-381c61ba725a"
      },
      "execution_count": null,
      "outputs": [
        {
          "output_type": "stream",
          "name": "stdout",
          "text": [
            "1\n"
          ]
        }
      ]
    },
    {
      "cell_type": "code",
      "source": [
        "model2.compile(optimizer=\"Adam\", loss=keras.losses.categorical_crossentropy, metrics=['accuracy'])"
      ],
      "metadata": {
        "id": "fwq2SpDB4prF"
      },
      "execution_count": null,
      "outputs": []
    },
    {
      "cell_type": "code",
      "source": [
        "h = model2.fit(dataset_train,epochs=2)"
      ],
      "metadata": {
        "colab": {
          "base_uri": "https://localhost:8080/"
        },
        "id": "vs33oQXf7MR0",
        "outputId": "10988004-e750-4fb2-d893-b9e0b2d0209d"
      },
      "execution_count": null,
      "outputs": [
        {
          "output_type": "stream",
          "name": "stdout",
          "text": [
            "Epoch 1/2\n",
            "180/180 [==============================] - 95s 522ms/step - loss: 0.6397 - accuracy: 0.7610\n",
            "Epoch 2/2\n",
            "180/180 [==============================] - 94s 522ms/step - loss: 0.5215 - accuracy: 0.8017\n"
          ]
        }
      ]
    },
    {
      "cell_type": "code",
      "source": [
        "model.save('brain-model2.h5')"
      ],
      "metadata": {
        "id": "tRoyhOIDSVSJ"
      },
      "execution_count": null,
      "outputs": []
    },
    {
      "cell_type": "code",
      "source": [
        "arr = model.predict(prepare(npath))"
      ],
      "metadata": {
        "id": "j8_65edGSD53"
      },
      "execution_count": null,
      "outputs": []
    }
  ]
}